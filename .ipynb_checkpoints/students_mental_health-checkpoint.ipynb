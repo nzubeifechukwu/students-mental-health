{
 "cells": [
  {
   "cell_type": "markdown",
   "id": "a5ed9dc8-e7ed-4882-899f-a274c0aaa215",
   "metadata": {},
   "source": [
    "# Analyzing Students' Mental Health"
   ]
  },
  {
   "cell_type": "markdown",
   "id": "cc2f0975-d53c-4b23-bc7d-70c44095602f",
   "metadata": {},
   "source": [
    "InIn this project, I analyze a dataset of students in a Japanese university to understand how the length of stay impacts tirhe average mental healt Mental health is evaluated based on the following metrics: depression, social connectedness (extent to which individuals feel a sense of belonging in a group) and acculturative stress (stress associated with adapting to a new culture).\n",
    "\n",
    "\n",
    "\n",
    "The idea and dataset for this project are from [this DataCamp project](https://app.datacamp.com/learn/projects/analyzing_students_mental_health/guided/SQL)."
   ]
  },
  {
   "cell_type": "markdown",
   "id": "9e46c4d7-49ff-43f0-b978-469d496a3bc5",
   "metadata": {},
   "source": [
    "## The dataset"
   ]
  },
  {
   "cell_type": "markdown",
   "id": "56904282-b919-4405-baa4-32a45568ed42",
   "metadata": {},
   "source": [
    "The data can be found in the `students.csv` file. Below is a description of the more relevant columns to our analysis.\n",
    "\n",
    "| Field Name    | Description                                      |\r\n",
    "| ------------- | ------------------------------------------------ |\r\n",
    "| `inter_dom`     | Types of students (international or domestic)   |\r\n",
    "| `japanese_cate` | Japanese language proficiency                    |\r\n",
    "| `english_cate`  | English language proficiency                     |\r\n",
    "| `academic`      | Current academic level (undergraduate or graduate) |\r\n",
    "| `age`           | Current age of student                           |\r\n",
    "| `stay`          | Current length of stay in years                  |\r\n",
    "| `todep`         | Total score of depression (PHQ-9 test)           |\r\n",
    "| `tosc`          | Total score of social connectedness (SCS test)   |\r\n",
    "| `toas`          | Total score of acculturative stress (ASISS test) |"
   ]
  },
  {
   "cell_type": "markdown",
   "id": "39bf0984-571f-43b9-8cab-3113ee4536c7",
   "metadata": {},
   "source": [
    "## Load the `sql` magic object and connect the `duckdb` database engine"
   ]
  },
  {
   "cell_type": "code",
   "execution_count": 1,
   "id": "379496d0-cba1-4f88-8698-eb9c3b8a0f92",
   "metadata": {},
   "outputs": [],
   "source": [
    "# Load `sql` object\n",
    "%load_ext sql"
   ]
  },
  {
   "cell_type": "code",
   "execution_count": 2,
   "id": "b789c969-c0c8-47af-b188-15f46d1d5da6",
   "metadata": {},
   "outputs": [
    {
     "data": {
      "text/html": [
       "<span style=\"None\">Connecting to &#x27;duckdb://&#x27;</span>"
      ],
      "text/plain": [
       "Connecting to 'duckdb://'"
      ]
     },
     "metadata": {},
     "output_type": "display_data"
    }
   ],
   "source": [
    "# Connect `duckdb` engine\n",
    "%sql duckdb://"
   ]
  },
  {
   "cell_type": "markdown",
   "id": "c47e5402-49ef-4a37-bb44-00405e2683f3",
   "metadata": {},
   "source": [
    "## Exploratory data analysis"
   ]
  },
  {
   "cell_type": "markdown",
   "id": "2765ef17-8966-4fed-b3c5-246d1a2fdb00",
   "metadata": {},
   "source": [
    "First, let's have an idea of our entire data."
   ]
  },
  {
   "cell_type": "code",
   "execution_count": 3,
   "id": "8900ba3f-ef52-4a05-8583-48c635ad94ed",
   "metadata": {},
   "outputs": [
    {
     "data": {
      "text/html": [
       "<span style=\"None\">Running query in &#x27;duckdb://&#x27;</span>"
      ],
      "text/plain": [
       "Running query in 'duckdb://'"
      ]
     },
     "metadata": {},
     "output_type": "display_data"
    },
    {
     "data": {
      "text/html": [
       "<table>\n",
       "    <thead>\n",
       "        <tr>\n",
       "            <th>inter_dom</th>\n",
       "            <th>region</th>\n",
       "            <th>gender</th>\n",
       "            <th>academic</th>\n",
       "            <th>age</th>\n",
       "            <th>age_cate</th>\n",
       "            <th>stay</th>\n",
       "            <th>stay_cate</th>\n",
       "            <th>japanese</th>\n",
       "            <th>japanese_cate</th>\n",
       "            <th>english</th>\n",
       "            <th>english_cate</th>\n",
       "            <th>intimate</th>\n",
       "            <th>religion</th>\n",
       "            <th>suicide</th>\n",
       "            <th>dep</th>\n",
       "            <th>deptype</th>\n",
       "            <th>todep</th>\n",
       "            <th>depsev</th>\n",
       "            <th>tosc</th>\n",
       "            <th>apd</th>\n",
       "            <th>ahome</th>\n",
       "            <th>aph</th>\n",
       "            <th>afear</th>\n",
       "            <th>acs</th>\n",
       "            <th>aguilt</th>\n",
       "            <th>amiscell</th>\n",
       "            <th>toas</th>\n",
       "            <th>partner</th>\n",
       "            <th>friends</th>\n",
       "            <th>parents</th>\n",
       "            <th>relative</th>\n",
       "            <th>profess</th>\n",
       "            <th>phone</th>\n",
       "            <th>doctor</th>\n",
       "            <th>reli</th>\n",
       "            <th>alone</th>\n",
       "            <th>others</th>\n",
       "            <th>internet</th>\n",
       "            <th>partner_bi</th>\n",
       "            <th>friends_bi</th>\n",
       "            <th>parents_bi</th>\n",
       "            <th>relative_bi</th>\n",
       "            <th>professional_bi</th>\n",
       "            <th>phone_bi</th>\n",
       "            <th>doctor_bi</th>\n",
       "            <th>religion_bi</th>\n",
       "            <th>alone_bi</th>\n",
       "            <th>others_bi</th>\n",
       "            <th>internet_bi</th>\n",
       "        </tr>\n",
       "    </thead>\n",
       "    <tbody>\n",
       "        <tr>\n",
       "            <td>Inter</td>\n",
       "            <td>SEA</td>\n",
       "            <td>Male</td>\n",
       "            <td>Grad</td>\n",
       "            <td>24</td>\n",
       "            <td>4</td>\n",
       "            <td>5</td>\n",
       "            <td>Long</td>\n",
       "            <td>3</td>\n",
       "            <td>Average</td>\n",
       "            <td>5</td>\n",
       "            <td>High</td>\n",
       "            <td>None</td>\n",
       "            <td>Yes</td>\n",
       "            <td>No</td>\n",
       "            <td>No</td>\n",
       "            <td>No</td>\n",
       "            <td>0</td>\n",
       "            <td>Min</td>\n",
       "            <td>34</td>\n",
       "            <td>23</td>\n",
       "            <td>9</td>\n",
       "            <td>11</td>\n",
       "            <td>8</td>\n",
       "            <td>11</td>\n",
       "            <td>2</td>\n",
       "            <td>27</td>\n",
       "            <td>91</td>\n",
       "            <td>5</td>\n",
       "            <td>5</td>\n",
       "            <td>6</td>\n",
       "            <td>3</td>\n",
       "            <td>2</td>\n",
       "            <td>1</td>\n",
       "            <td>4</td>\n",
       "            <td>1</td>\n",
       "            <td>3</td>\n",
       "            <td>4</td>\n",
       "            <td>None</td>\n",
       "            <td>Yes</td>\n",
       "            <td>Yes</td>\n",
       "            <td>Yes</td>\n",
       "            <td>No</td>\n",
       "            <td>No</td>\n",
       "            <td>No</td>\n",
       "            <td>No</td>\n",
       "            <td>No</td>\n",
       "            <td>No</td>\n",
       "            <td>No</td>\n",
       "            <td>No</td>\n",
       "        </tr>\n",
       "        <tr>\n",
       "            <td>Inter</td>\n",
       "            <td>SEA</td>\n",
       "            <td>Male</td>\n",
       "            <td>Grad</td>\n",
       "            <td>28</td>\n",
       "            <td>5</td>\n",
       "            <td>1</td>\n",
       "            <td>Short</td>\n",
       "            <td>4</td>\n",
       "            <td>High</td>\n",
       "            <td>4</td>\n",
       "            <td>High</td>\n",
       "            <td>None</td>\n",
       "            <td>No</td>\n",
       "            <td>No</td>\n",
       "            <td>No</td>\n",
       "            <td>No</td>\n",
       "            <td>2</td>\n",
       "            <td>Min</td>\n",
       "            <td>48</td>\n",
       "            <td>8</td>\n",
       "            <td>7</td>\n",
       "            <td>5</td>\n",
       "            <td>4</td>\n",
       "            <td>3</td>\n",
       "            <td>2</td>\n",
       "            <td>10</td>\n",
       "            <td>39</td>\n",
       "            <td>7</td>\n",
       "            <td>7</td>\n",
       "            <td>7</td>\n",
       "            <td>4</td>\n",
       "            <td>4</td>\n",
       "            <td>4</td>\n",
       "            <td>4</td>\n",
       "            <td>1</td>\n",
       "            <td>1</td>\n",
       "            <td>1</td>\n",
       "            <td>None</td>\n",
       "            <td>Yes</td>\n",
       "            <td>Yes</td>\n",
       "            <td>Yes</td>\n",
       "            <td>No</td>\n",
       "            <td>No</td>\n",
       "            <td>No</td>\n",
       "            <td>No</td>\n",
       "            <td>No</td>\n",
       "            <td>No</td>\n",
       "            <td>No</td>\n",
       "            <td>No</td>\n",
       "        </tr>\n",
       "        <tr>\n",
       "            <td>Inter</td>\n",
       "            <td>SEA</td>\n",
       "            <td>Male</td>\n",
       "            <td>Grad</td>\n",
       "            <td>25</td>\n",
       "            <td>4</td>\n",
       "            <td>6</td>\n",
       "            <td>Long</td>\n",
       "            <td>4</td>\n",
       "            <td>High</td>\n",
       "            <td>4</td>\n",
       "            <td>High</td>\n",
       "            <td>Yes</td>\n",
       "            <td>Yes</td>\n",
       "            <td>No</td>\n",
       "            <td>No</td>\n",
       "            <td>No</td>\n",
       "            <td>2</td>\n",
       "            <td>Min</td>\n",
       "            <td>41</td>\n",
       "            <td>13</td>\n",
       "            <td>4</td>\n",
       "            <td>7</td>\n",
       "            <td>6</td>\n",
       "            <td>4</td>\n",
       "            <td>3</td>\n",
       "            <td>14</td>\n",
       "            <td>51</td>\n",
       "            <td>3</td>\n",
       "            <td>3</td>\n",
       "            <td>3</td>\n",
       "            <td>1</td>\n",
       "            <td>1</td>\n",
       "            <td>2</td>\n",
       "            <td>1</td>\n",
       "            <td>1</td>\n",
       "            <td>1</td>\n",
       "            <td>1</td>\n",
       "            <td>None</td>\n",
       "            <td>No</td>\n",
       "            <td>No</td>\n",
       "            <td>No</td>\n",
       "            <td>No</td>\n",
       "            <td>No</td>\n",
       "            <td>No</td>\n",
       "            <td>No</td>\n",
       "            <td>No</td>\n",
       "            <td>No</td>\n",
       "            <td>No</td>\n",
       "            <td>No</td>\n",
       "        </tr>\n",
       "        <tr>\n",
       "            <td>Inter</td>\n",
       "            <td>EA</td>\n",
       "            <td>Female</td>\n",
       "            <td>Grad</td>\n",
       "            <td>29</td>\n",
       "            <td>5</td>\n",
       "            <td>1</td>\n",
       "            <td>Short</td>\n",
       "            <td>2</td>\n",
       "            <td>Low</td>\n",
       "            <td>3</td>\n",
       "            <td>Average</td>\n",
       "            <td>No</td>\n",
       "            <td>No</td>\n",
       "            <td>No</td>\n",
       "            <td>No</td>\n",
       "            <td>No</td>\n",
       "            <td>3</td>\n",
       "            <td>Min</td>\n",
       "            <td>37</td>\n",
       "            <td>16</td>\n",
       "            <td>10</td>\n",
       "            <td>10</td>\n",
       "            <td>8</td>\n",
       "            <td>6</td>\n",
       "            <td>4</td>\n",
       "            <td>21</td>\n",
       "            <td>75</td>\n",
       "            <td>5</td>\n",
       "            <td>5</td>\n",
       "            <td>5</td>\n",
       "            <td>5</td>\n",
       "            <td>5</td>\n",
       "            <td>2</td>\n",
       "            <td>2</td>\n",
       "            <td>2</td>\n",
       "            <td>4</td>\n",
       "            <td>4</td>\n",
       "            <td>None</td>\n",
       "            <td>Yes</td>\n",
       "            <td>Yes</td>\n",
       "            <td>Yes</td>\n",
       "            <td>Yes</td>\n",
       "            <td>Yes</td>\n",
       "            <td>No</td>\n",
       "            <td>No</td>\n",
       "            <td>No</td>\n",
       "            <td>No</td>\n",
       "            <td>No</td>\n",
       "            <td>No</td>\n",
       "        </tr>\n",
       "        <tr>\n",
       "            <td>Inter</td>\n",
       "            <td>EA</td>\n",
       "            <td>Female</td>\n",
       "            <td>Grad</td>\n",
       "            <td>28</td>\n",
       "            <td>5</td>\n",
       "            <td>1</td>\n",
       "            <td>Short</td>\n",
       "            <td>1</td>\n",
       "            <td>Low</td>\n",
       "            <td>3</td>\n",
       "            <td>Average</td>\n",
       "            <td>Yes</td>\n",
       "            <td>No</td>\n",
       "            <td>No</td>\n",
       "            <td>No</td>\n",
       "            <td>No</td>\n",
       "            <td>3</td>\n",
       "            <td>Min</td>\n",
       "            <td>37</td>\n",
       "            <td>15</td>\n",
       "            <td>12</td>\n",
       "            <td>5</td>\n",
       "            <td>8</td>\n",
       "            <td>7</td>\n",
       "            <td>4</td>\n",
       "            <td>31</td>\n",
       "            <td>82</td>\n",
       "            <td>5</td>\n",
       "            <td>5</td>\n",
       "            <td>5</td>\n",
       "            <td>2</td>\n",
       "            <td>5</td>\n",
       "            <td>2</td>\n",
       "            <td>5</td>\n",
       "            <td>5</td>\n",
       "            <td>4</td>\n",
       "            <td>4</td>\n",
       "            <td>None</td>\n",
       "            <td>Yes</td>\n",
       "            <td>Yes</td>\n",
       "            <td>Yes</td>\n",
       "            <td>No</td>\n",
       "            <td>Yes</td>\n",
       "            <td>No</td>\n",
       "            <td>Yes</td>\n",
       "            <td>Yes</td>\n",
       "            <td>No</td>\n",
       "            <td>No</td>\n",
       "            <td>No</td>\n",
       "        </tr>\n",
       "    </tbody>\n",
       "</table>"
      ],
      "text/plain": [
       "+-----------+--------+--------+----------+-----+----------+------+-----------+----------+---------------+---------+--------------+----------+----------+---------+-----+---------+-------+--------+------+-----+-------+-----+-------+-----+--------+----------+------+---------+---------+---------+----------+---------+-------+--------+------+-------+--------+----------+------------+------------+------------+-------------+-----------------+----------+-----------+-------------+----------+-----------+-------------+\n",
       "| inter_dom | region | gender | academic | age | age_cate | stay | stay_cate | japanese | japanese_cate | english | english_cate | intimate | religion | suicide | dep | deptype | todep | depsev | tosc | apd | ahome | aph | afear | acs | aguilt | amiscell | toas | partner | friends | parents | relative | profess | phone | doctor | reli | alone | others | internet | partner_bi | friends_bi | parents_bi | relative_bi | professional_bi | phone_bi | doctor_bi | religion_bi | alone_bi | others_bi | internet_bi |\n",
       "+-----------+--------+--------+----------+-----+----------+------+-----------+----------+---------------+---------+--------------+----------+----------+---------+-----+---------+-------+--------+------+-----+-------+-----+-------+-----+--------+----------+------+---------+---------+---------+----------+---------+-------+--------+------+-------+--------+----------+------------+------------+------------+-------------+-----------------+----------+-----------+-------------+----------+-----------+-------------+\n",
       "|   Inter   |  SEA   |  Male  |   Grad   |  24 |    4     |  5   |    Long   |    3     |    Average    |    5    |     High     |   None   |   Yes    |    No   |  No |    No   |   0   |  Min   |  34  |  23 |   9   |  11 |   8   |  11 |   2    |    27    |  91  |    5    |    5    |    6    |    3     |    2    |   1   |   4    |  1   |   3   |   4    |   None   |    Yes     |    Yes     |    Yes     |      No     |        No       |    No    |     No    |      No     |    No    |     No    |      No     |\n",
       "|   Inter   |  SEA   |  Male  |   Grad   |  28 |    5     |  1   |   Short   |    4     |      High     |    4    |     High     |   None   |    No    |    No   |  No |    No   |   2   |  Min   |  48  |  8  |   7   |  5  |   4   |  3  |   2    |    10    |  39  |    7    |    7    |    7    |    4     |    4    |   4   |   4    |  1   |   1   |   1    |   None   |    Yes     |    Yes     |    Yes     |      No     |        No       |    No    |     No    |      No     |    No    |     No    |      No     |\n",
       "|   Inter   |  SEA   |  Male  |   Grad   |  25 |    4     |  6   |    Long   |    4     |      High     |    4    |     High     |   Yes    |   Yes    |    No   |  No |    No   |   2   |  Min   |  41  |  13 |   4   |  7  |   6   |  4  |   3    |    14    |  51  |    3    |    3    |    3    |    1     |    1    |   2   |   1    |  1   |   1   |   1    |   None   |     No     |     No     |     No     |      No     |        No       |    No    |     No    |      No     |    No    |     No    |      No     |\n",
       "|   Inter   |   EA   | Female |   Grad   |  29 |    5     |  1   |   Short   |    2     |      Low      |    3    |   Average    |    No    |    No    |    No   |  No |    No   |   3   |  Min   |  37  |  16 |   10  |  10 |   8   |  6  |   4    |    21    |  75  |    5    |    5    |    5    |    5     |    5    |   2   |   2    |  2   |   4   |   4    |   None   |    Yes     |    Yes     |    Yes     |     Yes     |       Yes       |    No    |     No    |      No     |    No    |     No    |      No     |\n",
       "|   Inter   |   EA   | Female |   Grad   |  28 |    5     |  1   |   Short   |    1     |      Low      |    3    |   Average    |   Yes    |    No    |    No   |  No |    No   |   3   |  Min   |  37  |  15 |   12  |  5  |   8   |  7  |   4    |    31    |  82  |    5    |    5    |    5    |    2     |    5    |   2   |   5    |  5   |   4   |   4    |   None   |    Yes     |    Yes     |    Yes     |      No     |       Yes       |    No    |    Yes    |     Yes     |    No    |     No    |      No     |\n",
       "+-----------+--------+--------+----------+-----+----------+------+-----------+----------+---------------+---------+--------------+----------+----------+---------+-----+---------+-------+--------+------+-----+-------+-----+-------+-----+--------+----------+------+---------+---------+---------+----------+---------+-------+--------+------+-------+--------+----------+------------+------------+------------+-------------+-----------------+----------+-----------+-------------+----------+-----------+-------------+"
      ]
     },
     "execution_count": 3,
     "metadata": {},
     "output_type": "execute_result"
    }
   ],
   "source": [
    "%%sql \n",
    "\n",
    "# Inspect data\n",
    "SELECT *\n",
    "FROM students.csv\n",
    "LIMIT 5;"
   ]
  },
  {
   "cell_type": "markdown",
   "id": "6fb84820-5a01-44bb-ac13-f53a064725ba",
   "metadata": {},
   "source": [
    "Let's see the unique values in the `inter_dom` field, which says whether a student is a domestic or international students."
   ]
  },
  {
   "cell_type": "code",
   "execution_count": 11,
   "id": "1a2ea1aa-f76a-4931-af8c-15be6050b827",
   "metadata": {},
   "outputs": [
    {
     "data": {
      "text/html": [
       "<span style=\"None\">Running query in &#x27;duckdb://&#x27;</span>"
      ],
      "text/plain": [
       "Running query in 'duckdb://'"
      ]
     },
     "metadata": {},
     "output_type": "display_data"
    },
    {
     "data": {
      "application/vnd.jupyter.widget-view+json": {
       "model_id": "21660ecfb0424b44af6958d38c06d4d0",
       "version_major": 2,
       "version_minor": 0
      },
      "text/plain": [
       "FloatProgress(value=0.0, layout=Layout(width='auto'), style=ProgressStyle(bar_color='black'))"
      ]
     },
     "metadata": {},
     "output_type": "display_data"
    },
    {
     "data": {
      "text/html": [
       "<table>\n",
       "    <thead>\n",
       "        <tr>\n",
       "            <th>inter_dom</th>\n",
       "        </tr>\n",
       "    </thead>\n",
       "    <tbody>\n",
       "        <tr>\n",
       "            <td>Dom</td>\n",
       "        </tr>\n",
       "        <tr>\n",
       "            <td>Inter</td>\n",
       "        </tr>\n",
       "        <tr>\n",
       "            <td>None</td>\n",
       "        </tr>\n",
       "    </tbody>\n",
       "</table>"
      ],
      "text/plain": [
       "+-----------+\n",
       "| inter_dom |\n",
       "+-----------+\n",
       "|    Dom    |\n",
       "|   Inter   |\n",
       "|    None   |\n",
       "+-----------+"
      ]
     },
     "execution_count": 11,
     "metadata": {},
     "output_type": "execute_result"
    }
   ],
   "source": [
    "%%sql\n",
    "\n",
    "SELECT DISTINCT inter_dom\n",
    "FROM students.csv;"
   ]
  },
  {
   "cell_type": "markdown",
   "id": "5e49c256-eb5c-4e52-9a87-cbfc20e8006e",
   "metadata": {},
   "source": [
    "There's actually no 'None' value, contrary to what the query result above suggests. See the next two code cells."
   ]
  },
  {
   "cell_type": "code",
   "execution_count": 16,
   "id": "3fce6edc-b1ef-453d-bdb4-1a2ada5e5a16",
   "metadata": {},
   "outputs": [
    {
     "data": {
      "text/html": [
       "<span style=\"None\">Running query in &#x27;duckdb://&#x27;</span>"
      ],
      "text/plain": [
       "Running query in 'duckdb://'"
      ]
     },
     "metadata": {},
     "output_type": "display_data"
    },
    {
     "data": {
      "text/html": [
       "<table>\n",
       "    <thead>\n",
       "        <tr>\n",
       "            <th>count(inter_dom)</th>\n",
       "        </tr>\n",
       "    </thead>\n",
       "    <tbody>\n",
       "        <tr>\n",
       "            <td>0</td>\n",
       "        </tr>\n",
       "    </tbody>\n",
       "</table>"
      ],
      "text/plain": [
       "+------------------+\n",
       "| count(inter_dom) |\n",
       "+------------------+\n",
       "|        0         |\n",
       "+------------------+"
      ]
     },
     "execution_count": 16,
     "metadata": {},
     "output_type": "execute_result"
    }
   ],
   "source": [
    "%%sql\n",
    "\n",
    "SELECT COUNT(inter_dom)\n",
    "FROM students.csv\n",
    "WHERE inter_dom = 'None';"
   ]
  },
  {
   "cell_type": "code",
   "execution_count": 18,
   "id": "fe2d0d74-9fe1-4f36-afb2-4bcf87b51d75",
   "metadata": {},
   "outputs": [
    {
     "data": {
      "text/html": [
       "<span style=\"None\">Running query in &#x27;duckdb://&#x27;</span>"
      ],
      "text/plain": [
       "Running query in 'duckdb://'"
      ]
     },
     "metadata": {},
     "output_type": "display_data"
    },
    {
     "data": {
      "text/html": [
       "<table>\n",
       "    <thead>\n",
       "        <tr>\n",
       "            <th>count(DISTINCT inter_dom)</th>\n",
       "        </tr>\n",
       "    </thead>\n",
       "    <tbody>\n",
       "        <tr>\n",
       "            <td>2</td>\n",
       "        </tr>\n",
       "    </tbody>\n",
       "</table>"
      ],
      "text/plain": [
       "+---------------------------+\n",
       "| count(DISTINCT inter_dom) |\n",
       "+---------------------------+\n",
       "|             2             |\n",
       "+---------------------------+"
      ]
     },
     "execution_count": 18,
     "metadata": {},
     "output_type": "execute_result"
    }
   ],
   "source": [
    "%%sql\n",
    "\n",
    "SELECT COUNT(DISTINCT inter_dom)\n",
    "FROM students.csv;"
   ]
  },
  {
   "cell_type": "markdown",
   "id": "882a4151-b9c2-46f6-a6d7-71b90027ea70",
   "metadata": {},
   "source": [
    "`Inter` suggests that the student is an international student. `Dom` implies they are a domestic student."
   ]
  },
  {
   "cell_type": "markdown",
   "id": "dc6e50c9-fdc7-48b9-a82d-77a599988f35",
   "metadata": {},
   "source": [
    "## Evaluate the impact of students' length of stay and status (international or domestic) on their mental health"
   ]
  },
  {
   "cell_type": "code",
   "execution_count": 38,
   "id": "cc347752-e74a-469a-bb25-6f0726c0fc7f",
   "metadata": {},
   "outputs": [
    {
     "data": {
      "text/html": [
       "<span style=\"None\">Running query in &#x27;duckdb://&#x27;</span>"
      ],
      "text/plain": [
       "Running query in 'duckdb://'"
      ]
     },
     "metadata": {},
     "output_type": "display_data"
    },
    {
     "data": {
      "text/html": [
       "<table>\n",
       "    <thead>\n",
       "        <tr>\n",
       "            <th>stay</th>\n",
       "            <th>inter_dom</th>\n",
       "            <th>count_stud</th>\n",
       "            <th>average_phq</th>\n",
       "            <th>average_scs</th>\n",
       "            <th>average_as</th>\n",
       "        </tr>\n",
       "    </thead>\n",
       "    <tbody>\n",
       "        <tr>\n",
       "            <td>10</td>\n",
       "            <td>Inter</td>\n",
       "            <td>1</td>\n",
       "            <td>13.0</td>\n",
       "            <td>32.0</td>\n",
       "            <td>50.0</td>\n",
       "        </tr>\n",
       "        <tr>\n",
       "            <td>8</td>\n",
       "            <td>Inter</td>\n",
       "            <td>1</td>\n",
       "            <td>10.0</td>\n",
       "            <td>44.0</td>\n",
       "            <td>65.0</td>\n",
       "        </tr>\n",
       "        <tr>\n",
       "            <td>7</td>\n",
       "            <td>Inter</td>\n",
       "            <td>1</td>\n",
       "            <td>4.0</td>\n",
       "            <td>48.0</td>\n",
       "            <td>45.0</td>\n",
       "        </tr>\n",
       "        <tr>\n",
       "            <td>6</td>\n",
       "            <td>Inter</td>\n",
       "            <td>3</td>\n",
       "            <td>6.0</td>\n",
       "            <td>38.0</td>\n",
       "            <td>58.67</td>\n",
       "        </tr>\n",
       "        <tr>\n",
       "            <td>5</td>\n",
       "            <td>Dom</td>\n",
       "            <td>2</td>\n",
       "            <td>11.5</td>\n",
       "            <td>34.0</td>\n",
       "            <td>88.0</td>\n",
       "        </tr>\n",
       "        <tr>\n",
       "            <td>5</td>\n",
       "            <td>Inter</td>\n",
       "            <td>1</td>\n",
       "            <td>0.0</td>\n",
       "            <td>34.0</td>\n",
       "            <td>91.0</td>\n",
       "        </tr>\n",
       "        <tr>\n",
       "            <td>4</td>\n",
       "            <td>Dom</td>\n",
       "            <td>9</td>\n",
       "            <td>7.0</td>\n",
       "            <td>36.67</td>\n",
       "            <td>64.78</td>\n",
       "        </tr>\n",
       "        <tr>\n",
       "            <td>4</td>\n",
       "            <td>Inter</td>\n",
       "            <td>14</td>\n",
       "            <td>8.57</td>\n",
       "            <td>33.93</td>\n",
       "            <td>87.71</td>\n",
       "        </tr>\n",
       "        <tr>\n",
       "            <td>3</td>\n",
       "            <td>Dom</td>\n",
       "            <td>23</td>\n",
       "            <td>8.43</td>\n",
       "            <td>39.09</td>\n",
       "            <td>58.04</td>\n",
       "        </tr>\n",
       "        <tr>\n",
       "            <td>3</td>\n",
       "            <td>Inter</td>\n",
       "            <td>46</td>\n",
       "            <td>9.09</td>\n",
       "            <td>37.13</td>\n",
       "            <td>78.0</td>\n",
       "        </tr>\n",
       "    </tbody>\n",
       "</table>\n",
       "<span style=\"font-style:italic;text-align:center;\">Truncated to <a href=\"https://jupysql.ploomber.io/en/latest/api/configuration.html#displaylimit\">displaylimit</a> of 10.</span>"
      ],
      "text/plain": [
       "+------+-----------+------------+-------------+-------------+------------+\n",
       "| stay | inter_dom | count_stud | average_phq | average_scs | average_as |\n",
       "+------+-----------+------------+-------------+-------------+------------+\n",
       "|  10  |   Inter   |     1      |     13.0    |     32.0    |    50.0    |\n",
       "|  8   |   Inter   |     1      |     10.0    |     44.0    |    65.0    |\n",
       "|  7   |   Inter   |     1      |     4.0     |     48.0    |    45.0    |\n",
       "|  6   |   Inter   |     3      |     6.0     |     38.0    |   58.67    |\n",
       "|  5   |    Dom    |     2      |     11.5    |     34.0    |    88.0    |\n",
       "|  5   |   Inter   |     1      |     0.0     |     34.0    |    91.0    |\n",
       "|  4   |    Dom    |     9      |     7.0     |    36.67    |   64.78    |\n",
       "|  4   |   Inter   |     14     |     8.57    |    33.93    |   87.71    |\n",
       "|  3   |    Dom    |     23     |     8.43    |    39.09    |   58.04    |\n",
       "|  3   |   Inter   |     46     |     9.09    |    37.13    |    78.0    |\n",
       "+------+-----------+------------+-------------+-------------+------------+\n",
       "Truncated to displaylimit of 10."
      ]
     },
     "execution_count": 38,
     "metadata": {},
     "output_type": "execute_result"
    }
   ],
   "source": [
    "%%sql\n",
    "\n",
    "SELECT\n",
    "\tstay, inter_dom,\n",
    "\tCOUNT(inter_dom) count_stud, \n",
    "\tROUND(AVG(todep), 2) average_phq, \n",
    "\tROUND(AVG(tosc), 2) average_scs, \n",
    "\tROUND(AVG(toas), 2) average_as\n",
    "FROM students.csv\n",
    "WHERE stay IS NOT NULL\n",
    "GROUP BY stay, inter_dom\n",
    "ORDER BY stay DESC;"
   ]
  },
  {
   "cell_type": "markdown",
   "id": "2f306c93-6db4-4598-b187-a7788a2181e1",
   "metadata": {},
   "source": [
    "Since the count of students where length of stay is over 4 years is very small (1-3), the mental diagnostic scores may not be representative of the whole sample.\n",
    "\n",
    "Let's zoom in to records where length of stay is at least 4."
   ]
  },
  {
   "cell_type": "code",
   "execution_count": 40,
   "id": "a7e2962f-a7b3-4d48-9a87-07767e6db70f",
   "metadata": {},
   "outputs": [
    {
     "data": {
      "text/html": [
       "<span style=\"None\">Running query in &#x27;duckdb://&#x27;</span>"
      ],
      "text/plain": [
       "Running query in 'duckdb://'"
      ]
     },
     "metadata": {},
     "output_type": "display_data"
    },
    {
     "data": {
      "text/html": [
       "<table>\n",
       "    <thead>\n",
       "        <tr>\n",
       "            <th>stay</th>\n",
       "            <th>inter_dom</th>\n",
       "            <th>count_stud</th>\n",
       "            <th>average_phq</th>\n",
       "            <th>average_scs</th>\n",
       "            <th>average_as</th>\n",
       "        </tr>\n",
       "    </thead>\n",
       "    <tbody>\n",
       "        <tr>\n",
       "            <td>4</td>\n",
       "            <td>Inter</td>\n",
       "            <td>14</td>\n",
       "            <td>8.57</td>\n",
       "            <td>33.93</td>\n",
       "            <td>87.71</td>\n",
       "        </tr>\n",
       "        <tr>\n",
       "            <td>4</td>\n",
       "            <td>Dom</td>\n",
       "            <td>9</td>\n",
       "            <td>7.0</td>\n",
       "            <td>36.67</td>\n",
       "            <td>64.78</td>\n",
       "        </tr>\n",
       "        <tr>\n",
       "            <td>3</td>\n",
       "            <td>Inter</td>\n",
       "            <td>46</td>\n",
       "            <td>9.09</td>\n",
       "            <td>37.13</td>\n",
       "            <td>78.0</td>\n",
       "        </tr>\n",
       "        <tr>\n",
       "            <td>3</td>\n",
       "            <td>Dom</td>\n",
       "            <td>23</td>\n",
       "            <td>8.43</td>\n",
       "            <td>39.09</td>\n",
       "            <td>58.04</td>\n",
       "        </tr>\n",
       "        <tr>\n",
       "            <td>2</td>\n",
       "            <td>Dom</td>\n",
       "            <td>13</td>\n",
       "            <td>9.46</td>\n",
       "            <td>37.08</td>\n",
       "            <td>66.46</td>\n",
       "        </tr>\n",
       "        <tr>\n",
       "            <td>2</td>\n",
       "            <td>Inter</td>\n",
       "            <td>39</td>\n",
       "            <td>8.28</td>\n",
       "            <td>37.08</td>\n",
       "            <td>77.67</td>\n",
       "        </tr>\n",
       "        <tr>\n",
       "            <td>1</td>\n",
       "            <td>Inter</td>\n",
       "            <td>95</td>\n",
       "            <td>7.48</td>\n",
       "            <td>38.11</td>\n",
       "            <td>72.8</td>\n",
       "        </tr>\n",
       "        <tr>\n",
       "            <td>1</td>\n",
       "            <td>Dom</td>\n",
       "            <td>20</td>\n",
       "            <td>8.7</td>\n",
       "            <td>37.15</td>\n",
       "            <td>62.6</td>\n",
       "        </tr>\n",
       "    </tbody>\n",
       "</table>"
      ],
      "text/plain": [
       "+------+-----------+------------+-------------+-------------+------------+\n",
       "| stay | inter_dom | count_stud | average_phq | average_scs | average_as |\n",
       "+------+-----------+------------+-------------+-------------+------------+\n",
       "|  4   |   Inter   |     14     |     8.57    |    33.93    |   87.71    |\n",
       "|  4   |    Dom    |     9      |     7.0     |    36.67    |   64.78    |\n",
       "|  3   |   Inter   |     46     |     9.09    |    37.13    |    78.0    |\n",
       "|  3   |    Dom    |     23     |     8.43    |    39.09    |   58.04    |\n",
       "|  2   |    Dom    |     13     |     9.46    |    37.08    |   66.46    |\n",
       "|  2   |   Inter   |     39     |     8.28    |    37.08    |   77.67    |\n",
       "|  1   |   Inter   |     95     |     7.48    |    38.11    |    72.8    |\n",
       "|  1   |    Dom    |     20     |     8.7     |    37.15    |    62.6    |\n",
       "+------+-----------+------------+-------------+-------------+------------+"
      ]
     },
     "execution_count": 40,
     "metadata": {},
     "output_type": "execute_result"
    }
   ],
   "source": [
    "%%sql\n",
    "\n",
    "SELECT\n",
    "\tstay, inter_dom,\n",
    "\tCOUNT(inter_dom) count_stud, \n",
    "\tROUND(AVG(todep), 2) average_phq, \n",
    "\tROUND(AVG(tosc), 2) average_scs, \n",
    "\tROUND(AVG(toas), 2) average_as\n",
    "FROM students.csv\n",
    "WHERE stay IS NOT NULL AND stay < 5\n",
    "GROUP BY stay, inter_dom\n",
    "ORDER BY stay DESC;"
   ]
  },
  {
   "cell_type": "markdown",
   "id": "fdba46c7-b4f7-4d16-90a7-8ebae56e4bd8",
   "metadata": {},
   "source": [
    "The effect of year of stay and/or student status (international or domestic) on students' mental health seems inconclusive."
   ]
  },
  {
   "cell_type": "code",
   "execution_count": null,
   "id": "c33b4fb7-9358-49c6-9da7-fe41839e2273",
   "metadata": {},
   "outputs": [],
   "source": []
  }
 ],
 "metadata": {
  "kernelspec": {
   "display_name": "Python 3 (ipykernel)",
   "language": "python",
   "name": "python3"
  },
  "language_info": {
   "codemirror_mode": {
    "name": "ipython",
    "version": 3
   },
   "file_extension": ".py",
   "mimetype": "text/x-python",
   "name": "python",
   "nbconvert_exporter": "python",
   "pygments_lexer": "ipython3",
   "version": "3.12.4"
  }
 },
 "nbformat": 4,
 "nbformat_minor": 5
}
